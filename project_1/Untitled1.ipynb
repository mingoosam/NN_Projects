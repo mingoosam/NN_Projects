{
 "cells": [
  {
   "cell_type": "code",
   "execution_count": null,
   "id": "0b26af78",
   "metadata": {},
   "outputs": [],
   "source": [
    "\n",
    "import torch\n",
    "import torch.nn as nn #oop\n",
    "import torch.nn.functional as F #functions\n",
    "from torch.utils.data import DataLoader\n",
    "from torchvision import datasets, transforms\n",
    "\n",
    "import numpy as np\n",
    "import matplotlib.pyplot as plt\n",
    "\n",
    "#from sklearn import datasets\n",
    "from tqdm.notebook import tqdm\n",
    "\n",
    "import sklearn.metrics as sk_m\n",
    "from sklearn.metrics import plot_confusion_matrix\n",
    "import pandas as pd\n",
    "import seaborn as sn\n",
    "\n",
    "from IPython import embed\n",
    "\n",
    "import os\n",
    "import pickle\n",
    "import shutil\n",
    "\n",
    "def get_dataset(which_dataset):\n",
    "    \n",
    "    Transform = transforms.Compose([transforms.ToTensor()])  # transform data to Tensor\n",
    "    \n",
    "    if(which_dataset == \"mnist\".lower()):\n",
    "        \n",
    "        train = datasets.MNIST(root='../DATA', train=True, download=True, transform=Transform)\n",
    "        test = datasets.MNIST(root='../DATA', train=False, download=True, transform=Transform)\n",
    "        \n",
    "        # only for MSE\n",
    "        \n",
    "        #train.targets = one_hot_encode(train.targets, 10)\n",
    "        #test.targets = one_hot_encode(test.targets, 10)\n",
    "        \n",
    "        from IPython import embed\n",
    "        embed()\n",
    "        \n",
    "    if(which_dataset == \"fashion\".lower()):\n",
    "        \n",
    "        train = datasets.FashionMNIST(root='../DATA', train=True, download=True, transform=Transform)\n",
    "        test = datasets.FashionMNIST(root='../DATA', train=False, download=True, transform=Transform)\n",
    "        \n",
    "    # batch_size: how many samples at a time we pass to the model (generally 8 to 64). helps us generalize (each time it optimizes, optimizations that \"stick around\" tend to be general, rather than overfit, features). also helps training time\n",
    "    # shuffle: helps with generalization. don't want to learn all 1s, then all 2s, and so on.\n",
    "    train = torch.utils.data.DataLoader(train, batch_size=16, shuffle=True)\n",
    "    test = torch.utils.data.DataLoader(test, batch_size=16, shuffle=False)\n",
    "    return train, test"
   ]
  }
 ],
 "metadata": {
  "kernelspec": {
   "display_name": "Python 3 (ipykernel)",
   "language": "python",
   "name": "python3"
  },
  "language_info": {
   "codemirror_mode": {
    "name": "ipython",
    "version": 3
   },
   "file_extension": ".py",
   "mimetype": "text/x-python",
   "name": "python",
   "nbconvert_exporter": "python",
   "pygments_lexer": "ipython3",
   "version": "3.10.8"
  }
 },
 "nbformat": 4,
 "nbformat_minor": 5
}
