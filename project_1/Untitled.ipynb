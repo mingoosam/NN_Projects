{
 "cells": [
  {
   "cell_type": "code",
   "execution_count": 1,
   "id": "13dfbdd6",
   "metadata": {},
   "outputs": [
    {
     "name": "stderr",
     "output_type": "stream",
     "text": [
      "/Users/andyvarner/mambaforge/envs/ci/lib/python3.10/site-packages/torchvision/io/image.py:13: UserWarning: Failed to load image Python extension: dlopen(/Users/andyvarner/mambaforge/envs/ci/lib/python3.10/site-packages/torchvision/image.so, 0x0006): symbol not found in flat namespace '__ZN2at4_ops19empty_memory_format4callEN3c108ArrayRefIxEENS2_8optionalINS2_10ScalarTypeEEENS5_INS2_6LayoutEEENS5_INS2_6DeviceEEENS5_IbEENS5_INS2_12MemoryFormatEEE'\n",
      "  warn(f\"Failed to load image Python extension: {e}\")\n"
     ]
    },
    {
     "name": "stdout",
     "output_type": "stream",
     "text": [
      "Downloading http://yann.lecun.com/exdb/mnist/train-images-idx3-ubyte.gz\n",
      "Downloading http://yann.lecun.com/exdb/mnist/train-images-idx3-ubyte.gz to ./data/MNIST/raw/train-images-idx3-ubyte.gz\n"
     ]
    },
    {
     "data": {
      "application/vnd.jupyter.widget-view+json": {
       "model_id": "95ad29d7a086444db3d7067819399d74",
       "version_major": 2,
       "version_minor": 0
      },
      "text/plain": [
       "  0%|          | 0/9912422 [00:00<?, ?it/s]"
      ]
     },
     "metadata": {},
     "output_type": "display_data"
    },
    {
     "name": "stdout",
     "output_type": "stream",
     "text": [
      "Extracting ./data/MNIST/raw/train-images-idx3-ubyte.gz to ./data/MNIST/raw\n",
      "\n",
      "Downloading http://yann.lecun.com/exdb/mnist/train-labels-idx1-ubyte.gz\n",
      "Downloading http://yann.lecun.com/exdb/mnist/train-labels-idx1-ubyte.gz to ./data/MNIST/raw/train-labels-idx1-ubyte.gz\n"
     ]
    },
    {
     "data": {
      "application/vnd.jupyter.widget-view+json": {
       "model_id": "e13c2aeb1d9d493f8aca0299ff2cff6f",
       "version_major": 2,
       "version_minor": 0
      },
      "text/plain": [
       "  0%|          | 0/28881 [00:00<?, ?it/s]"
      ]
     },
     "metadata": {},
     "output_type": "display_data"
    },
    {
     "name": "stdout",
     "output_type": "stream",
     "text": [
      "Extracting ./data/MNIST/raw/train-labels-idx1-ubyte.gz to ./data/MNIST/raw\n",
      "\n",
      "Downloading http://yann.lecun.com/exdb/mnist/t10k-images-idx3-ubyte.gz\n",
      "Downloading http://yann.lecun.com/exdb/mnist/t10k-images-idx3-ubyte.gz to ./data/MNIST/raw/t10k-images-idx3-ubyte.gz\n"
     ]
    },
    {
     "data": {
      "application/vnd.jupyter.widget-view+json": {
       "model_id": "4eefd91aaeaa4d10b59c9145fe71b002",
       "version_major": 2,
       "version_minor": 0
      },
      "text/plain": [
       "  0%|          | 0/1648877 [00:00<?, ?it/s]"
      ]
     },
     "metadata": {},
     "output_type": "display_data"
    },
    {
     "name": "stdout",
     "output_type": "stream",
     "text": [
      "Extracting ./data/MNIST/raw/t10k-images-idx3-ubyte.gz to ./data/MNIST/raw\n",
      "\n",
      "Downloading http://yann.lecun.com/exdb/mnist/t10k-labels-idx1-ubyte.gz\n",
      "Downloading http://yann.lecun.com/exdb/mnist/t10k-labels-idx1-ubyte.gz to ./data/MNIST/raw/t10k-labels-idx1-ubyte.gz\n"
     ]
    },
    {
     "data": {
      "application/vnd.jupyter.widget-view+json": {
       "model_id": "6dba09a0052c4639bb8b27f61ab133e6",
       "version_major": 2,
       "version_minor": 0
      },
      "text/plain": [
       "  0%|          | 0/4542 [00:00<?, ?it/s]"
      ]
     },
     "metadata": {},
     "output_type": "display_data"
    },
    {
     "name": "stdout",
     "output_type": "stream",
     "text": [
      "Extracting ./data/MNIST/raw/t10k-labels-idx1-ubyte.gz to ./data/MNIST/raw\n",
      "\n",
      "[1,   100] loss: 0.712\n",
      "[1,   200] loss: 0.350\n",
      "[1,   300] loss: 0.264\n",
      "[1,   400] loss: 0.242\n",
      "[1,   500] loss: 0.216\n",
      "[1,   600] loss: 0.177\n",
      "[1,   700] loss: 0.177\n",
      "[1,   800] loss: 0.174\n",
      "[1,   900] loss: 0.150\n",
      "[2,   100] loss: 0.122\n",
      "[2,   200] loss: 0.123\n",
      "[2,   300] loss: 0.116\n",
      "[2,   400] loss: 0.123\n",
      "[2,   500] loss: 0.106\n",
      "[2,   600] loss: 0.124\n",
      "[2,   700] loss: 0.089\n",
      "[2,   800] loss: 0.112\n",
      "[2,   900] loss: 0.101\n",
      "[3,   100] loss: 0.076\n",
      "[3,   200] loss: 0.075\n",
      "[3,   300] loss: 0.077\n",
      "[3,   400] loss: 0.079\n",
      "[3,   500] loss: 0.093\n",
      "[3,   600] loss: 0.072\n",
      "[3,   700] loss: 0.077\n",
      "[3,   800] loss: 0.086\n",
      "[3,   900] loss: 0.074\n",
      "[4,   100] loss: 0.050\n",
      "[4,   200] loss: 0.061\n",
      "[4,   300] loss: 0.064\n",
      "[4,   400] loss: 0.061\n",
      "[4,   500] loss: 0.066\n",
      "[4,   600] loss: 0.060\n",
      "[4,   700] loss: 0.067\n",
      "[4,   800] loss: 0.053\n",
      "[4,   900] loss: 0.075\n",
      "[5,   100] loss: 0.044\n",
      "[5,   200] loss: 0.046\n",
      "[5,   300] loss: 0.051\n",
      "[5,   400] loss: 0.049\n",
      "[5,   500] loss: 0.042\n",
      "[5,   600] loss: 0.055\n",
      "[5,   700] loss: 0.060\n",
      "[5,   800] loss: 0.041\n",
      "[5,   900] loss: 0.058\n",
      "[6,   100] loss: 0.034\n",
      "[6,   200] loss: 0.039\n",
      "[6,   300] loss: 0.045\n",
      "[6,   400] loss: 0.036\n",
      "[6,   500] loss: 0.039\n",
      "[6,   600] loss: 0.047\n",
      "[6,   700] loss: 0.048\n",
      "[6,   800] loss: 0.045\n",
      "[6,   900] loss: 0.042\n",
      "[7,   100] loss: 0.032\n",
      "[7,   200] loss: 0.026\n",
      "[7,   300] loss: 0.030\n",
      "[7,   400] loss: 0.031\n",
      "[7,   500] loss: 0.033\n",
      "[7,   600] loss: 0.032\n",
      "[7,   700] loss: 0.039\n",
      "[7,   800] loss: 0.043\n",
      "[7,   900] loss: 0.041\n",
      "[8,   100] loss: 0.020\n",
      "[8,   200] loss: 0.027\n",
      "[8,   300] loss: 0.029\n",
      "[8,   400] loss: 0.030\n",
      "[8,   500] loss: 0.030\n",
      "[8,   600] loss: 0.034\n",
      "[8,   700] loss: 0.037\n",
      "[8,   800] loss: 0.024\n",
      "[8,   900] loss: 0.024\n",
      "[9,   100] loss: 0.033\n",
      "[9,   200] loss: 0.021\n",
      "[9,   300] loss: 0.026\n",
      "[9,   400] loss: 0.030\n",
      "[9,   500] loss: 0.031\n",
      "[9,   600] loss: 0.030\n",
      "[9,   700] loss: 0.032\n",
      "[9,   800] loss: 0.024\n",
      "[9,   900] loss: 0.029\n",
      "[10,   100] loss: 0.015\n",
      "[10,   200] loss: 0.018\n",
      "[10,   300] loss: 0.017\n",
      "[10,   400] loss: 0.020\n",
      "[10,   500] loss: 0.026\n",
      "[10,   600] loss: 0.023\n",
      "[10,   700] loss: 0.023\n",
      "[10,   800] loss: 0.027\n",
      "[10,   900] loss: 0.028\n",
      "Accuracy of the network on the 10000 test images: 97 %\n"
     ]
    }
   ],
   "source": [
    "import torch\n",
    "import torchvision\n",
    "import torch.nn as nn\n",
    "import torch.optim as optim\n",
    "from torchvision import datasets, transforms\n",
    "\n",
    "# Define the transforms to apply to the data\n",
    "transform = transforms.Compose([\n",
    "    transforms.ToTensor(),\n",
    "    transforms.Normalize((0.1307,), (0.3081,))\n",
    "])\n",
    "\n",
    "# Download and load the MNIST dataset\n",
    "trainset = datasets.MNIST(root='./data', train=True, download=True, transform=transform)\n",
    "testset = datasets.MNIST(root='./data', train=False, download=True, transform=transform)\n",
    "\n",
    "# Create data loaders to load the data in batches during training and testing\n",
    "trainloader = torch.utils.data.DataLoader(trainset, batch_size=64, shuffle=True)\n",
    "testloader = torch.utils.data.DataLoader(testset, batch_size=64, shuffle=False)\n",
    "\n",
    "# Define the MLP model\n",
    "class MLP(nn.Module):\n",
    "    def __init__(self):\n",
    "        super(MLP, self).__init__()\n",
    "        self.fc1 = nn.Linear(784, 128)\n",
    "        self.fc2 = nn.Linear(128, 64)\n",
    "        self.fc3 = nn.Linear(64, 10)\n",
    "\n",
    "    def forward(self, x):\n",
    "        x = x.view(-1, 784) # flatten the input tensor\n",
    "        x = torch.relu(self.fc1(x))\n",
    "        x = torch.relu(self.fc2(x))\n",
    "        x = self.fc3(x)\n",
    "        return x\n",
    "\n",
    "# Initialize the model and optimizer\n",
    "model = MLP()\n",
    "optimizer = optim.Adam(model.parameters(), lr=0.001)\n",
    "\n",
    "# Define the loss function\n",
    "criterion = nn.CrossEntropyLoss()\n",
    "\n",
    "# Train the model\n",
    "for epoch in range(10):\n",
    "    running_loss = 0.0\n",
    "    for i, data in enumerate(trainloader, 0):\n",
    "        inputs, labels = data\n",
    "        optimizer.zero_grad()\n",
    "        outputs = model(inputs)\n",
    "        loss = criterion(outputs, labels)\n",
    "        loss.backward()\n",
    "        optimizer.step()\n",
    "\n",
    "        running_loss += loss.item()\n",
    "        if i % 100 == 99:\n",
    "            print('[%d, %5d] loss: %.3f' %\n",
    "                  (epoch + 1, i + 1, running_loss / 100))\n",
    "            running_loss = 0.0\n",
    "\n",
    "# Test the model\n",
    "correct = 0\n",
    "total = 0\n",
    "with torch.no_grad():\n",
    "    for data in testloader:\n",
    "        images, labels = data\n",
    "        outputs = model(images)\n",
    "        _, predicted = torch.max(outputs.data, 1)\n",
    "        total += labels.size(0)\n",
    "        correct += (predicted == labels).sum().item()\n",
    "\n",
    "print('Accuracy of the network on the 10000 test images: %d %%' % (\n",
    "    100 * correct / total))\n"
   ]
  },
  {
   "cell_type": "code",
   "execution_count": null,
   "id": "12deab1a",
   "metadata": {},
   "outputs": [],
   "source": []
  }
 ],
 "metadata": {
  "kernelspec": {
   "display_name": "Python 3 (ipykernel)",
   "language": "python",
   "name": "python3"
  },
  "language_info": {
   "codemirror_mode": {
    "name": "ipython",
    "version": 3
   },
   "file_extension": ".py",
   "mimetype": "text/x-python",
   "name": "python",
   "nbconvert_exporter": "python",
   "pygments_lexer": "ipython3",
   "version": "3.10.8"
  }
 },
 "nbformat": 4,
 "nbformat_minor": 5
}
