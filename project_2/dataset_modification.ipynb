{
 "cells": [
  {
   "cell_type": "code",
   "execution_count": 25,
   "id": "c6e64389",
   "metadata": {},
   "outputs": [],
   "source": [
    "import numpy as np\n",
    "import pandas as pd\n",
    "import csv\n",
    "import itertools\n",
    "import torch\n",
    "from torch.utils.data import DataLoader, Dataset\n",
    "import pickle\n",
    "import dataset_methods"
   ]
  },
  {
   "cell_type": "code",
   "execution_count": 26,
   "id": "5757f6e5",
   "metadata": {},
   "outputs": [
    {
     "name": "stdout",
     "output_type": "stream",
     "text": [
      "Index(['id', 'rated', 'created_at', 'last_move_at', 'turns', 'victory_status',\n",
      "       'winner', 'increment_code', 'white_id', 'white_rating', 'black_id',\n",
      "       'black_rating', 'moves', 'opening_eco', 'opening_name', 'opening_ply'],\n",
      "      dtype='object')\n",
      "20058\n"
     ]
    }
   ],
   "source": [
    "games = pd.read_csv(\"games.csv\")\n",
    "games_df = pd.DataFrame(games)\n",
    "print(games_df.columns)\n",
    "print(len(games_df))"
   ]
  },
  {
   "cell_type": "code",
   "execution_count": 27,
   "id": "4810a9f9",
   "metadata": {},
   "outputs": [],
   "source": [
    "def mod_dataset(games, min_turns, max_turns):\n",
    "    \n",
    "    games = games.drop(['victory_status', 'opening_name', 'id', 'white_id', 'black_id', 'rated', 'created_at',\n",
    "                    'last_move_at', 'increment_code', 'white_rating', 'black_rating', 'opening_eco',\n",
    "                    'opening_ply'], axis=1)\n",
    "    \n",
    "    games = games.query(f\"turns >={min_turns}\")\n",
    "    games = games.query(f\"turns <={max_turns}\")\n",
    "    games = games.query(\"winner != 'draw'\")\n",
    "    \n",
    "    # now we split the 'moves' column into a list of individual moves:\n",
    "    games['moves']=games['moves'].str.split()\n",
    "    \n",
    "    max_len = games['turns'].max()\n",
    "    print(f\"max_len={max_len}\")\n",
    "\n",
    "    # Define a lambda function to pad each list of strings\n",
    "    pad_moves = lambda moves_list: moves_list + [' '] * (max_len - len(moves_list))\n",
    "\n",
    "    # Apply the lambda function to the 'moves' column of the games DataFrame\n",
    "    games['moves'] = games['moves'].apply(pad_moves)\n",
    "    \n",
    "    # reset the index\n",
    "    games = games.reset_index()\n",
    "\n",
    "    # drop the old index column\n",
    "    games = games.drop('index', axis=1)\n",
    "    \n",
    "    return games\n",
    "\n",
    "def print_stats(dataset):\n",
    "    print(f\"largest: {dataset['turns'].nlargest(1)},\\nsmallest: {dataset['turns'].nsmallest(1)}\")\n",
    "    print(f\"dataset length: {len(dataset)}\")\n",
    "    print(dataset['moves'][0]) # all the moves in a turn\n",
    "    print(len(dataset['moves'][0]))\n",
    "    print(dataset['turns'][0])\n",
    "    print(dataset.iloc[0:20])\n",
    "    \n",
    "    print(f\"first move: {dataset['moves'][0]}\")\n",
    "    print(f\"last move: {dataset['moves'][len(dataset)-1]}\")\n",
    "    \n",
    "def dump_dataset(dataset, string):\n",
    "    pickle.dump(dataset, open(f\"{string}.pkl\", \"wb\")) # games3 has padded strings for 'moves'\n",
    "    "
   ]
  },
  {
   "cell_type": "code",
   "execution_count": 28,
   "id": "8dcaf211",
   "metadata": {},
   "outputs": [
    {
     "name": "stdout",
     "output_type": "stream",
     "text": [
      "max_len=50\n"
     ]
    },
    {
     "name": "stderr",
     "output_type": "stream",
     "text": [
      "/var/folders/lh/6svpwf5n6zzg8m2whfkn1n2h0000gn/T/ipykernel_71145/3422649068.py:12: SettingWithCopyWarning: \n",
      "A value is trying to be set on a copy of a slice from a DataFrame.\n",
      "Try using .loc[row_indexer,col_indexer] = value instead\n",
      "\n",
      "See the caveats in the documentation: https://pandas.pydata.org/pandas-docs/stable/user_guide/indexing.html#returning-a-view-versus-a-copy\n",
      "  games['moves']=games['moves'].str.split()\n",
      "/var/folders/lh/6svpwf5n6zzg8m2whfkn1n2h0000gn/T/ipykernel_71145/3422649068.py:21: SettingWithCopyWarning: \n",
      "A value is trying to be set on a copy of a slice from a DataFrame.\n",
      "Try using .loc[row_indexer,col_indexer] = value instead\n",
      "\n",
      "See the caveats in the documentation: https://pandas.pydata.org/pandas-docs/stable/user_guide/indexing.html#returning-a-view-versus-a-copy\n",
      "  games['moves'] = games['moves'].apply(pad_moves)\n"
     ]
    }
   ],
   "source": [
    "dataset_50 = mod_dataset(games_df, min_turns = 5, max_turns = 50)\n",
    "dump_dataset(dataset_50, \"games_50\")"
   ]
  },
  {
   "cell_type": "code",
   "execution_count": 6,
   "id": "2a23e0e8",
   "metadata": {},
   "outputs": [
    {
     "name": "stdout",
     "output_type": "stream",
     "text": [
      "max_len=20\n"
     ]
    },
    {
     "name": "stderr",
     "output_type": "stream",
     "text": [
      "/var/folders/lh/6svpwf5n6zzg8m2whfkn1n2h0000gn/T/ipykernel_71145/3422649068.py:12: SettingWithCopyWarning: \n",
      "A value is trying to be set on a copy of a slice from a DataFrame.\n",
      "Try using .loc[row_indexer,col_indexer] = value instead\n",
      "\n",
      "See the caveats in the documentation: https://pandas.pydata.org/pandas-docs/stable/user_guide/indexing.html#returning-a-view-versus-a-copy\n",
      "  games['moves']=games['moves'].str.split()\n",
      "/var/folders/lh/6svpwf5n6zzg8m2whfkn1n2h0000gn/T/ipykernel_71145/3422649068.py:21: SettingWithCopyWarning: \n",
      "A value is trying to be set on a copy of a slice from a DataFrame.\n",
      "Try using .loc[row_indexer,col_indexer] = value instead\n",
      "\n",
      "See the caveats in the documentation: https://pandas.pydata.org/pandas-docs/stable/user_guide/indexing.html#returning-a-view-versus-a-copy\n",
      "  games['moves'] = games['moves'].apply(pad_moves)\n"
     ]
    }
   ],
   "source": [
    "dataset_20 = mod_dataset(games_df, min_turns = 5, max_turns = 20)\n",
    "dump_dataset(dataset_20, \"games_20\")\n",
    "#print_stats(dataset_20)"
   ]
  },
  {
   "cell_type": "code",
   "execution_count": 17,
   "id": "72fc38ad",
   "metadata": {},
   "outputs": [
    {
     "name": "stdout",
     "output_type": "stream",
     "text": [
      "max_len=100\n"
     ]
    },
    {
     "name": "stderr",
     "output_type": "stream",
     "text": [
      "/var/folders/lh/6svpwf5n6zzg8m2whfkn1n2h0000gn/T/ipykernel_71145/3422649068.py:12: SettingWithCopyWarning: \n",
      "A value is trying to be set on a copy of a slice from a DataFrame.\n",
      "Try using .loc[row_indexer,col_indexer] = value instead\n",
      "\n",
      "See the caveats in the documentation: https://pandas.pydata.org/pandas-docs/stable/user_guide/indexing.html#returning-a-view-versus-a-copy\n",
      "  games['moves']=games['moves'].str.split()\n",
      "/var/folders/lh/6svpwf5n6zzg8m2whfkn1n2h0000gn/T/ipykernel_71145/3422649068.py:21: SettingWithCopyWarning: \n",
      "A value is trying to be set on a copy of a slice from a DataFrame.\n",
      "Try using .loc[row_indexer,col_indexer] = value instead\n",
      "\n",
      "See the caveats in the documentation: https://pandas.pydata.org/pandas-docs/stable/user_guide/indexing.html#returning-a-view-versus-a-copy\n",
      "  games['moves'] = games['moves'].apply(pad_moves)\n"
     ]
    }
   ],
   "source": [
    "dataset_100 = mod_dataset(games_df, min_turns = 5, max_turns = 100)\n",
    "dump_dataset(dataset_100, \"games_100\")\n",
    "#print_stats(dataset_100)"
   ]
  },
  {
   "cell_type": "code",
   "execution_count": 7,
   "id": "587ed6bf",
   "metadata": {},
   "outputs": [
    {
     "data": {
      "text/plain": [
       "1385"
      ]
     },
     "execution_count": 7,
     "metadata": {},
     "output_type": "execute_result"
    }
   ],
   "source": [
    "len(dataset_20)"
   ]
  },
  {
   "cell_type": "code",
   "execution_count": 18,
   "id": "3b562652",
   "metadata": {},
   "outputs": [
    {
     "data": {
      "text/plain": [
       "16631"
      ]
     },
     "execution_count": 18,
     "metadata": {},
     "output_type": "execute_result"
    }
   ],
   "source": [
    "len(dataset_100)"
   ]
  },
  {
   "cell_type": "code",
   "execution_count": 10,
   "id": "8137605e",
   "metadata": {},
   "outputs": [],
   "source": [
    "test, train = dataset_methods.get_dataset(\"games_20.pkl\")"
   ]
  },
  {
   "cell_type": "code",
   "execution_count": 11,
   "id": "5694f383",
   "metadata": {},
   "outputs": [
    {
     "data": {
      "text/plain": [
       "1108"
      ]
     },
     "execution_count": 11,
     "metadata": {},
     "output_type": "execute_result"
    }
   ],
   "source": [
    "len(test)"
   ]
  },
  {
   "cell_type": "code",
   "execution_count": 12,
   "id": "1ab683aa",
   "metadata": {},
   "outputs": [
    {
     "data": {
      "text/plain": [
       "277"
      ]
     },
     "execution_count": 12,
     "metadata": {},
     "output_type": "execute_result"
    }
   ],
   "source": [
    "len(train)"
   ]
  },
  {
   "cell_type": "code",
   "execution_count": 15,
   "id": "351d3db8",
   "metadata": {},
   "outputs": [
    {
     "data": {
      "text/plain": [
       "0.25"
      ]
     },
     "execution_count": 15,
     "metadata": {},
     "output_type": "execute_result"
    }
   ],
   "source": [
    "len(train) / len(test)"
   ]
  },
  {
   "cell_type": "code",
   "execution_count": 19,
   "id": "45df5029",
   "metadata": {},
   "outputs": [],
   "source": [
    "test_, train_ = dataset_methods.get_dataset(\"games_100.pkl\")"
   ]
  },
  {
   "cell_type": "code",
   "execution_count": 21,
   "id": "8dc005da",
   "metadata": {},
   "outputs": [
    {
     "name": "stdout",
     "output_type": "stream",
     "text": [
      "3326\n",
      "13305\n"
     ]
    }
   ],
   "source": [
    "print(len(train_))\n",
    "print(len(test_))"
   ]
  },
  {
   "cell_type": "code",
   "execution_count": 22,
   "id": "db78e6bf",
   "metadata": {},
   "outputs": [
    {
     "data": {
      "text/plain": [
       "0.24998121007140173"
      ]
     },
     "execution_count": 22,
     "metadata": {},
     "output_type": "execute_result"
    }
   ],
   "source": [
    "len(train_) / len(test_)"
   ]
  },
  {
   "cell_type": "code",
   "execution_count": null,
   "id": "7dc7a047",
   "metadata": {},
   "outputs": [],
   "source": []
  }
 ],
 "metadata": {
  "kernelspec": {
   "display_name": "Python 3 (ipykernel)",
   "language": "python",
   "name": "python3"
  },
  "language_info": {
   "codemirror_mode": {
    "name": "ipython",
    "version": 3
   },
   "file_extension": ".py",
   "mimetype": "text/x-python",
   "name": "python",
   "nbconvert_exporter": "python",
   "pygments_lexer": "ipython3",
   "version": "3.8.16"
  }
 },
 "nbformat": 4,
 "nbformat_minor": 5
}
