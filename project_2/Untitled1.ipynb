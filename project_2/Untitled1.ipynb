{
 "cells": [
  {
   "cell_type": "code",
   "execution_count": 1,
   "id": "440fbaca",
   "metadata": {},
   "outputs": [],
   "source": [
    "import pickle\n",
    "import dataset_methods"
   ]
  },
  {
   "cell_type": "code",
   "execution_count": 2,
   "id": "9e4a7fcb",
   "metadata": {},
   "outputs": [],
   "source": [
    "filename = \"games_100.pkl\"\n",
    "data = pickle.load(open(filename, \"rb\"))"
   ]
  },
  {
   "cell_type": "code",
   "execution_count": 3,
   "id": "d90f6f9f",
   "metadata": {},
   "outputs": [
    {
     "data": {
      "text/plain": [
       "Index(['turns', 'winner', 'moves'], dtype='object')"
      ]
     },
     "execution_count": 3,
     "metadata": {},
     "output_type": "execute_result"
    }
   ],
   "source": [
    "data.keys()"
   ]
  },
  {
   "cell_type": "code",
   "execution_count": 9,
   "id": "6eea4b82",
   "metadata": {},
   "outputs": [],
   "source": [
    "white = (data['winner'] == 'white').sum()\n",
    "black = (data['winner'] == 'black').sum()"
   ]
  },
  {
   "cell_type": "code",
   "execution_count": 10,
   "id": "a6aa5531",
   "metadata": {},
   "outputs": [
    {
     "name": "stdout",
     "output_type": "stream",
     "text": [
      "8746 7885\n"
     ]
    }
   ],
   "source": [
    "print(white, black)"
   ]
  },
  {
   "cell_type": "code",
   "execution_count": 13,
   "id": "968500a6",
   "metadata": {},
   "outputs": [
    {
     "data": {
      "text/plain": [
       "16631"
      ]
     },
     "execution_count": 13,
     "metadata": {},
     "output_type": "execute_result"
    }
   ],
   "source": [
    "total = white+black\n",
    "total"
   ]
  },
  {
   "cell_type": "code",
   "execution_count": 14,
   "id": "09af7222",
   "metadata": {},
   "outputs": [
    {
     "data": {
      "text/plain": [
       "52.58853947447538"
      ]
     },
     "execution_count": 14,
     "metadata": {},
     "output_type": "execute_result"
    }
   ],
   "source": [
    "(white/total)*100"
   ]
  },
  {
   "cell_type": "code",
   "execution_count": 15,
   "id": "7f3f4e97",
   "metadata": {},
   "outputs": [
    {
     "data": {
      "text/plain": [
       "47.411460525524625"
      ]
     },
     "execution_count": 15,
     "metadata": {},
     "output_type": "execute_result"
    }
   ],
   "source": [
    "(black/total)*100"
   ]
  },
  {
   "cell_type": "code",
   "execution_count": null,
   "id": "6c10bed6",
   "metadata": {},
   "outputs": [],
   "source": []
  }
 ],
 "metadata": {
  "kernelspec": {
   "display_name": "Python 3 (ipykernel)",
   "language": "python",
   "name": "python3"
  },
  "language_info": {
   "codemirror_mode": {
    "name": "ipython",
    "version": 3
   },
   "file_extension": ".py",
   "mimetype": "text/x-python",
   "name": "python",
   "nbconvert_exporter": "python",
   "pygments_lexer": "ipython3",
   "version": "3.8.16"
  }
 },
 "nbformat": 4,
 "nbformat_minor": 5
}
