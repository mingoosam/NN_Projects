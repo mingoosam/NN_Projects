{
 "cells": [
  {
   "cell_type": "code",
   "execution_count": 1,
   "id": "ec3ee465",
   "metadata": {},
   "outputs": [],
   "source": [
    "import torch\n",
    "import torch.nn as nn\n",
    "import matplotlib.pyplot as plt\n",
    "import numpy as np\n",
    "from IPython import embed\n",
    "import pickle\n",
    "from torch.utils.data import DataLoader, Dataset"
   ]
  },
  {
   "cell_type": "code",
   "execution_count": 2,
   "id": "efb9c5e7",
   "metadata": {},
   "outputs": [
    {
     "name": "stdout",
     "output_type": "stream",
     "text": [
      "10000\n",
      "2000\n"
     ]
    }
   ],
   "source": [
    "data = pickle.load(open(\"games.pkl\", \"rb\"))\n",
    "len(data)\n",
    "train_df = data[:10000]\n",
    "test_df = data[10000:12000]\n",
    "print(len(train_df))\n",
    "print(len(test_df))"
   ]
  },
  {
   "cell_type": "code",
   "execution_count": 3,
   "id": "9a30ee84",
   "metadata": {},
   "outputs": [
    {
     "name": "stdout",
     "output_type": "stream",
     "text": [
      "       turns winner                                   moves\n",
      "10000     19  white   e4 e5 d3 d6 Nf3 Nf6 Nh4 Nh5 Qxh5 Qxh4\n",
      "10001     16  black     Nc3 e5 Nf3 Nf6 b3 d5 g3 Ne4 Na4 Bg4\n",
      "10002     45  white    d4 e6 e4 d6 Nf3 Kd7 Ng5 Qxg5 Bxg5 f6\n",
      "10003     10  black  b4 e5 Na3 Nf6 Bb2 Ne4 Rb1 Qh4 e3 Qxf2#\n",
      "10004     21  white     e4 g6 d4 Nh6 e5 Bg7 Bxh6 Bxh6 g3 a5\n",
      "10005     21  white  e4 g6 Nf3 b6 Ng5 Nf6 Bc4 Nxe4 Nxf7 Ng5\n",
      "10006     87  white        e4 h5 d4 g6 f4 Bh6 c4 Nf6 e5 Ng8\n",
      "10007     65  white   d4 Nc6 e3 Nb4 c3 Nd5 Bc4 Ndf6 Qf3 Nh6\n",
      "10008     39  black     g4 d5 b3 Bxg4 h3 Bf5 Nc3 Nf6 Nb5 c5\n",
      "10009     38  black       g3 c6 Bh3 g6 e3 Bg7 Bg2 a5 a3 Na6\n"
     ]
    }
   ],
   "source": [
    "print(test_df.iloc[0:10]) "
   ]
  },
  {
   "cell_type": "code",
   "execution_count": 4,
   "id": "28b3b0a5",
   "metadata": {},
   "outputs": [
    {
     "data": {
      "text/plain": [
       "True"
      ]
     },
     "execution_count": 4,
     "metadata": {},
     "output_type": "execute_result"
    }
   ],
   "source": [
    "keyword = 'O-O'\n",
    "train_df['moves']\n",
    "\n",
    "train_df.loc[323, 'moves'].split()\n",
    "any(keyword in x for x in train_df.loc[323, 'moves'].split())"
   ]
  },
  {
   "cell_type": "code",
   "execution_count": 5,
   "id": "b0452353",
   "metadata": {},
   "outputs": [
    {
     "name": "stdout",
     "output_type": "stream",
     "text": [
      "d4\n",
      "<class 'str'>\n"
     ]
    }
   ],
   "source": [
    "zeroth_move = train_df.loc[1, 'moves'].split()[0]  # zeroth move in game 1\n",
    "print(zeroth_move)\n",
    "print(type(zeroth_move))"
   ]
  },
  {
   "cell_type": "code",
   "execution_count": 6,
   "id": "5f9146cb",
   "metadata": {},
   "outputs": [],
   "source": [
    "test_game = train_df.loc[28, 'moves'].split()"
   ]
  },
  {
   "cell_type": "code",
   "execution_count": 7,
   "id": "be378d32",
   "metadata": {},
   "outputs": [],
   "source": [
    "# this method takes in all the moves in a game and encodes player, piece, file, rank, and modifiers\n",
    "def move_vec(moves):\n",
    "\n",
    "    move_vectors = np.ones((10,5), dtype=int) * -1\n",
    "    \n",
    "    player_idx = 0\n",
    "    piece_idx = 1\n",
    "    file_idx = 2\n",
    "    rank_idx = 3\n",
    "    mod_idx = 4\n",
    "\n",
    "    piece_map = {'pawn': 0, 'N': 1, 'B': 2, 'R': 4, 'Q': 5, 'K': 6}\n",
    "    file_map = {'a': 1, 'b': 2, 'c': 3, 'd': 4, 'e': 5, 'f': 6, 'g': 7, 'h': 8}\n",
    "    rank_list = np.arange(1,9)\n",
    "    mod_map = {'O-O-O': 0, 'O-O': 1, 'x': 2, '+': 3, '#': 4, '=': 5} # queenside castle, kingside castle, capture, check, mate, promo\n",
    "    \n",
    "    for i, move in enumerate(moves):\n",
    "        if(i%2==0):                            # encode PLAYER as index 0\n",
    "            move_vectors[i][player_idx] = 0    # white move\n",
    "        else:\n",
    "            move_vectors[i][player_idx] = 1    # black move\n",
    "            \n",
    "            \n",
    "        for key in piece_map:                  # encode PIECE as index 1 \n",
    "            if key in move:\n",
    "                move_vectors[i][piece_idx]=piece_map[key]\n",
    "                \n",
    "        if move_vectors[i][piece_idx] == 100:\n",
    "            move_vectors[i][piece_idx] = 0    # set pawns\n",
    "                \n",
    "                \n",
    "        for key in file_map:                   # encode FILES A-B as integers 1-8\n",
    "            if key in move:\n",
    "                move_vectors[i][file_idx] = file_map[key]\n",
    "                \n",
    "                \n",
    "        for rank in rank_list:                 # encode RANK 1-8 as integers 1-8\n",
    "            if str(rank) in move:\n",
    "                move_vectors[i][rank_idx] = int(rank)   \n",
    "\n",
    "                \n",
    "        for key in mod_map:                    # encode queenside castle, kingside castle, capture, check, mate, promo\n",
    "            if key in move:\n",
    "                move_vectors[i][mod_idx] = mod_map[key]\n",
    "\n",
    "    return move_vectors\n",
    "\n",
    "test = move_vec(test_game)"
   ]
  },
  {
   "cell_type": "code",
   "execution_count": 9,
   "id": "f93f0ae5",
   "metadata": {},
   "outputs": [
    {
     "name": "stdout",
     "output_type": "stream",
     "text": [
      "color,\n",
      "piece: 'pawn': 0, 'N': 1, 'B': 2, 'R': 4, 'Q': 5, 'K': 6\n",
      "file:'a': 1, 'b': 2, 'c': 3, 'd': 4, 'e': 5, 'f': 6, 'g': 7, 'h': 8\n",
      "moves string: \n",
      "['e4', 'c5', 'Nf3', 'd6', 'Bb5+', 'Bd7', 'Bxd7+', 'Nxd7', 'O-O', 'Ngf6']\n"
     ]
    },
    {
     "data": {
      "text/plain": [
       "array([[ 0, -1,  5,  4, -1],\n",
       "       [ 1, -1,  3,  5, -1],\n",
       "       [ 0,  1,  6,  3, -1],\n",
       "       [ 1, -1,  4,  6, -1],\n",
       "       [ 0,  2,  2,  5,  3],\n",
       "       [ 1,  2,  4,  7, -1],\n",
       "       [ 0,  2,  4,  7,  3],\n",
       "       [ 1,  1,  4,  7,  2],\n",
       "       [ 0, -1, -1, -1,  1],\n",
       "       [ 1,  1,  7,  6, -1]])"
      ]
     },
     "execution_count": 9,
     "metadata": {},
     "output_type": "execute_result"
    }
   ],
   "source": [
    "print(\"color,\\npiece: 'pawn': 0, 'N': 1, 'B': 2, 'R': 4, 'Q': 5, 'K': 6\")\n",
    "print(\"file:'a': 1, 'b': 2, 'c': 3, 'd': 4, 'e': 5, 'f': 6, 'g': 7, 'h': 8\")\n",
    "print(\"moves string: \")\n",
    "print(test_game)\n",
    "test"
   ]
  },
  {
   "cell_type": "code",
   "execution_count": null,
   "id": "78635298",
   "metadata": {},
   "outputs": [],
   "source": [
    "# make sure data types are consistent\n",
    "\n",
    "dt_arr = np.empty_like(test, dtype=object)\n",
    "for i, val in np.ndenumerate(test):\n",
    "    dt_arr[i] = str(type(val))\n",
    "\n",
    "print(dt_arr[0])"
   ]
  },
  {
   "cell_type": "code",
   "execution_count": null,
   "id": "629801dc",
   "metadata": {},
   "outputs": [],
   "source": [
    "# i need samples and labels. samples are the moves, labels are the winners.\n",
    "# but first, am i balanced? \n",
    "\n",
    "num_black_wins = (train_df['winner'] == 'black').sum()\n",
    "num_black_wins_test = (test_df['winner'] == 'black').sum()\n",
    "\n",
    "print(\"Number of trainset where black wins:\", num_black_wins, \"out of\", len(train_df), \": \", num_black_wins / len(train_df))\n",
    "print(\"Number of testset where black wins:\", num_black_wins_test, \"out of\", len(test_df), \": \", num_black_wins_test / len(test_df))"
   ]
  },
  {
   "cell_type": "code",
   "execution_count": null,
   "id": "1c86454c",
   "metadata": {},
   "outputs": [],
   "source": [
    "from torch.utils.data import DataLoader, Dataset\n",
    "\n",
    "# Define your custom dataset class\n",
    "class ChessDataset(Dataset):\n",
    "    def __init__(self, data):\n",
    "        self.data = data\n",
    "        \n",
    "    def __len__(self):\n",
    "        return len(self.data)\n",
    "    \n",
    "    def __getitem__(self, idx):\n",
    "        # Convert data to PyTorch tensors\n",
    "        X = torch.from_numpy(self.data.iloc[idx, :-1].values).float()\n",
    "        y = torch.from_numpy(np.array(self.data.iloc[idx, -1])).long()\n",
    "        \n",
    "#         X = torch.from_numpy(self.data.iloc[idx, :-1]).float()\n",
    "#         y = torch.from_numpy(np.array(self.data.iloc[idx, -1])).long()\n",
    "        \n",
    "        return X, y\n",
    "\n",
    "# Create train and test data loaders\n",
    "train_data = ChessDataset(train_df)\n",
    "test_data = ChessDataset(test_df)\n",
    "\n",
    "train_loader = DataLoader(train_data, batch_size=32, shuffle=True)\n",
    "test_loader = DataLoader(test_data, batch_size=32, shuffle=False)"
   ]
  },
  {
   "cell_type": "code",
   "execution_count": null,
   "id": "bfb812e3",
   "metadata": {},
   "outputs": [],
   "source": [
    "class ChessRNN(nn.Module):\n",
    "    def __init__(self, input_size, hidden_size, output_size):\n",
    "        super(ChessRNN, self).__init__()\n",
    "        self.rnn = nn.RNN(input_size, hidden_size, batch_first=True)\n",
    "        self.fc = nn.Linear(hidden_size, output_size)\n",
    "        \n",
    "    def forward(self, x):\n",
    "        out, hidden = self.rnn(x)\n",
    "        out = self.fc(hidden[-1])\n",
    "        \n",
    "        return out"
   ]
  },
  {
   "cell_type": "code",
   "execution_count": null,
   "id": "b08df157",
   "metadata": {},
   "outputs": [],
   "source": [
    "# Set hyperparameters\n",
    "input_size = 12 # number of features in the input (one-hot encoding of moves)\n",
    "hidden_size = 128 # number of hidden units in the RNN\n",
    "output_size = 2 # number of output classes (1 for each player)\n",
    "\n",
    "learning_rate = 0.001\n",
    "num_epochs = 10\n",
    "\n",
    "model = ChessRNN(input_size, hidden_size, output_size)\n",
    "\n",
    "# Define loss function and optimizer\n",
    "criterion = nn.CrossEntropyLoss()\n",
    "optimizer = torch.optim.Adam(model.parameters(), lr=learning_rate)\n"
   ]
  },
  {
   "cell_type": "code",
   "execution_count": null,
   "id": "b5621160",
   "metadata": {},
   "outputs": [],
   "source": [
    "for epoch in range(num_epochs):\n",
    "    train_loss = 0.0\n",
    "    train_acc = 0.0\n",
    "    \n",
    "    # Set model to train mode\n",
    "    model.train()\n",
    "    \n",
    "    # Loop over the train data\n",
    "    for i, (inputs, labels) in enumerate(train_loader):\n",
    "        # Zero out gradients\n",
    "        optimizer.zero_grad()\n",
    "\n",
    "        # Forward pass\n",
    "        outputs = model(inputs)\n",
    "        loss = criterion(outputs, labels)\n",
    "\n",
    "        # Backward pass\n",
    "        loss.backward()\n",
    "        optimizer.step()\n",
    "\n",
    "        # Update metrics\n",
    "        train_loss += loss.item() * inputs.size(0)\n",
    "        train_acc += torch.sum(torch.argmax(outputs, axis=1) == labels).item()\n",
    "        \n",
    "    # Compute average loss and accuracy for the epoch\n",
    "    train_loss = train_loss / len(train_loader.dataset)\n",
    "    train_acc = train_acc / len(train_loader.dataset)\n",
    "    \n",
    "    # Print training metrics for the epoch\n",
    "    print('Epoch [{}/{}], Train Loss: {:.4f}, Train Acc: {:.4f}'.format(\n",
    "        epoch+1, num_epochs, train_loss, train_acc))\n"
   ]
  },
  {
   "cell_type": "code",
   "execution_count": null,
   "id": "b8f57af7",
   "metadata": {},
   "outputs": [],
   "source": []
  }
 ],
 "metadata": {
  "kernelspec": {
   "display_name": "Python 3 (ipykernel)",
   "language": "python",
   "name": "python3"
  },
  "language_info": {
   "codemirror_mode": {
    "name": "ipython",
    "version": 3
   },
   "file_extension": ".py",
   "mimetype": "text/x-python",
   "name": "python",
   "nbconvert_exporter": "python",
   "pygments_lexer": "ipython3",
   "version": "3.8.16"
  }
 },
 "nbformat": 4,
 "nbformat_minor": 5
}
