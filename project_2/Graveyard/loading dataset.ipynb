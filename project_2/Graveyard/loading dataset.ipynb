{
 "cells": [
  {
   "cell_type": "code",
   "execution_count": 1,
   "id": "c6e64389",
   "metadata": {},
   "outputs": [],
   "source": [
    "import numpy as np\n",
    "import pandas as pd\n",
    "import csv\n",
    "import itertools\n",
    "import torch\n",
    "from torch.utils.data import DataLoader, Dataset"
   ]
  },
  {
   "cell_type": "code",
   "execution_count": 2,
   "id": "5757f6e5",
   "metadata": {},
   "outputs": [],
   "source": [
    "dataset = pd.read_csv(\"games.csv\")\n",
    "games = pd.DataFrame(dataset)"
   ]
  },
  {
   "cell_type": "code",
   "execution_count": 3,
   "id": "03b5ad47",
   "metadata": {},
   "outputs": [
    {
     "data": {
      "text/plain": [
       "Index(['id', 'rated', 'created_at', 'last_move_at', 'turns', 'victory_status',\n",
       "       'winner', 'increment_code', 'white_id', 'white_rating', 'black_id',\n",
       "       'black_rating', 'moves', 'opening_eco', 'opening_name', 'opening_ply'],\n",
       "      dtype='object')"
      ]
     },
     "execution_count": 3,
     "metadata": {},
     "output_type": "execute_result"
    }
   ],
   "source": [
    "games.columns"
   ]
  },
  {
   "cell_type": "code",
   "execution_count": 5,
   "id": "ddaece21",
   "metadata": {},
   "outputs": [
    {
     "data": {
      "text/plain": [
       "20058"
      ]
     },
     "execution_count": 5,
     "metadata": {},
     "output_type": "execute_result"
    }
   ],
   "source": [
    "# print the length before getting rid of games with <10 moves\n",
    "len(games)"
   ]
  },
  {
   "cell_type": "code",
   "execution_count": 6,
   "id": "9f46ff0c",
   "metadata": {},
   "outputs": [],
   "source": [
    "# calculate the number of moves for each game\n",
    "games['num_moves'] = games['moves'].apply(lambda x: len(x.split()))"
   ]
  },
  {
   "cell_type": "code",
   "execution_count": 7,
   "id": "fc45af0a",
   "metadata": {},
   "outputs": [
    {
     "name": "stdout",
     "output_type": "stream",
     "text": [
      "0     13\n",
      "1     16\n",
      "2     61\n",
      "3     61\n",
      "4     95\n",
      "5      5\n",
      "6     33\n",
      "7      9\n",
      "8     66\n",
      "9    119\n",
      "Name: num_moves, dtype: int64\n"
     ]
    }
   ],
   "source": [
    "print(games['num_moves'][:10])"
   ]
  },
  {
   "cell_type": "code",
   "execution_count": 8,
   "id": "b18e31bb",
   "metadata": {},
   "outputs": [],
   "source": [
    "# get rid of games with >10 moves\n",
    "games = games.query(\"num_moves >= 10\")"
   ]
  },
  {
   "cell_type": "code",
   "execution_count": 10,
   "id": "361749a6",
   "metadata": {},
   "outputs": [
    {
     "name": "stdout",
     "output_type": "stream",
     "text": [
      "19441\n"
     ]
    }
   ],
   "source": [
    "# print the new length\n",
    "print(len(games))"
   ]
  },
  {
   "cell_type": "code",
   "execution_count": 11,
   "id": "60c6894f",
   "metadata": {},
   "outputs": [],
   "source": [
    "# get rid of all games where the outcome is a draw\n",
    "games = games.query(\"winner != 'draw'\")"
   ]
  },
  {
   "cell_type": "code",
   "execution_count": 12,
   "id": "7ebd51b6",
   "metadata": {},
   "outputs": [
    {
     "data": {
      "text/plain": [
       "18527"
      ]
     },
     "execution_count": 12,
     "metadata": {},
     "output_type": "execute_result"
    }
   ],
   "source": [
    "len(games)"
   ]
  },
  {
   "cell_type": "code",
   "execution_count": 13,
   "id": "7395442e",
   "metadata": {},
   "outputs": [],
   "source": [
    "games = games.drop(['victory_status', 'opening_name', 'id', 'white_id', 'black_id', 'rated', 'created_at',\n",
    "                    'last_move_at', 'increment_code', 'white_rating', 'black_rating', 'opening_eco',\n",
    "                    'opening_ply', 'num_moves'], axis=1)"
   ]
  },
  {
   "cell_type": "code",
   "execution_count": 14,
   "id": "c931146e",
   "metadata": {},
   "outputs": [
    {
     "data": {
      "text/plain": [
       "Index(['turns', 'winner', 'moves'], dtype='object')"
      ]
     },
     "execution_count": 14,
     "metadata": {},
     "output_type": "execute_result"
    }
   ],
   "source": [
    "games.columns"
   ]
  },
  {
   "cell_type": "code",
   "execution_count": 15,
   "id": "fb18de2b",
   "metadata": {},
   "outputs": [
    {
     "name": "stdout",
     "output_type": "stream",
     "text": [
      "   turns winner                                              moves\n",
      "1     16  black  d4 Nc6 e4 e5 f4 f6 dxe5 fxe5 fxe5 Nxe5 Qd4 Nc6...\n",
      "2     61  white  e4 e5 d3 d6 Be3 c6 Be2 b5 Nd2 a5 a4 c5 axb5 Nc...\n",
      "3     61  white  d4 d5 Nf3 Bf5 Nc3 Nf6 Bf4 Ng4 e3 Nc6 Be2 Qd7 O...\n",
      "4     95  white  e4 e5 Nf3 d6 d4 Nc6 d5 Nb4 a3 Na6 Nc3 Be7 b4 N...\n",
      "6     33  white  d4 d5 e4 dxe4 Nc3 Nf6 f3 exf3 Nxf3 Nc6 Bb5 a6 ...\n",
      "8     66  black  e4 e5 Bc4 Nc6 Nf3 Nd4 d3 Nxf3+ Qxf3 Nf6 h3 Bc5...\n",
      "9    119  white  e4 d5 exd5 Qxd5 Nc3 Qe5+ Be2 Na6 d4 Qf5 Bxa6 b...\n"
     ]
    }
   ],
   "source": [
    "print(games.iloc[1:8]) # these are not numbered sequentially since we excluded games with <10 moves"
   ]
  },
  {
   "cell_type": "code",
   "execution_count": 16,
   "id": "99e9f7e0",
   "metadata": {},
   "outputs": [],
   "source": [
    "# reset the index\n",
    "games = games.reset_index()\n",
    "\n",
    "# drop the old index column\n",
    "games = games.drop('index', axis=1)"
   ]
  },
  {
   "cell_type": "code",
   "execution_count": 17,
   "id": "f3b2d4db",
   "metadata": {},
   "outputs": [
    {
     "name": "stdout",
     "output_type": "stream",
     "text": [
      "   turns winner                                              moves\n",
      "1     16  black  d4 Nc6 e4 e5 f4 f6 dxe5 fxe5 fxe5 Nxe5 Qd4 Nc6...\n",
      "2     61  white  e4 e5 d3 d6 Be3 c6 Be2 b5 Nd2 a5 a4 c5 axb5 Nc...\n",
      "3     61  white  d4 d5 Nf3 Bf5 Nc3 Nf6 Bf4 Ng4 e3 Nc6 Be2 Qd7 O...\n",
      "4     95  white  e4 e5 Nf3 d6 d4 Nc6 d5 Nb4 a3 Na6 Nc3 Be7 b4 N...\n",
      "5     33  white  d4 d5 e4 dxe4 Nc3 Nf6 f3 exf3 Nxf3 Nc6 Bb5 a6 ...\n",
      "6     66  black  e4 e5 Bc4 Nc6 Nf3 Nd4 d3 Nxf3+ Qxf3 Nf6 h3 Bc5...\n",
      "7    119  white  e4 d5 exd5 Qxd5 Nc3 Qe5+ Be2 Na6 d4 Qf5 Bxa6 b...\n"
     ]
    }
   ],
   "source": [
    "print(games.iloc[1:8]) # now they are numbered sequentially."
   ]
  },
  {
   "cell_type": "code",
   "execution_count": 18,
   "id": "f206be66",
   "metadata": {},
   "outputs": [],
   "source": [
    "# now we split the 'moves' column into a list of individual moves:\n",
    "games['moves']=games['moves'].str.split()\n",
    "\n",
    "# only retain the first ten moves:\n",
    "games['moves']=games['moves'].apply(lambda x: x[:10])\n",
    "\n",
    "# convert the list of moves to a string:\n",
    "games['moves']=games['moves'].apply(lambda x: ' '.join(x))"
   ]
  },
  {
   "cell_type": "code",
   "execution_count": 19,
   "id": "76327f28",
   "metadata": {},
   "outputs": [
    {
     "data": {
      "text/plain": [
       "'d4 d5 c4 c6 cxd5 e6 dxe6 fxe6 Nf3 Bb4+'"
      ]
     },
     "execution_count": 19,
     "metadata": {},
     "output_type": "execute_result"
    }
   ],
   "source": [
    "games['moves'][0]"
   ]
  },
  {
   "cell_type": "code",
   "execution_count": 20,
   "id": "7a7977c4",
   "metadata": {},
   "outputs": [
    {
     "name": "stdout",
     "output_type": "stream",
     "text": [
      "d5\n",
      "<class 'str'>\n"
     ]
    }
   ],
   "source": [
    "first_move = games.loc[0, 'moves'].split()[1]\n",
    "print(first_move)\n",
    "print(type(first_move))"
   ]
  },
  {
   "cell_type": "code",
   "execution_count": 22,
   "id": "a7704c4c",
   "metadata": {},
   "outputs": [
    {
     "data": {
      "text/plain": [
       "Index(['turns', 'winner', 'moves'], dtype='object')"
      ]
     },
     "execution_count": 22,
     "metadata": {},
     "output_type": "execute_result"
    }
   ],
   "source": [
    "games.columns\n"
   ]
  },
  {
   "cell_type": "code",
   "execution_count": 23,
   "id": "9adcdc0d",
   "metadata": {},
   "outputs": [],
   "source": [
    "import pickle\n",
    "pickle.dump(games, open(\"games.pkl\", \"wb\"))"
   ]
  },
  {
   "cell_type": "code",
   "execution_count": null,
   "id": "631083e8",
   "metadata": {},
   "outputs": [],
   "source": []
  }
 ],
 "metadata": {
  "kernelspec": {
   "display_name": "Python 3 (ipykernel)",
   "language": "python",
   "name": "python3"
  },
  "language_info": {
   "codemirror_mode": {
    "name": "ipython",
    "version": 3
   },
   "file_extension": ".py",
   "mimetype": "text/x-python",
   "name": "python",
   "nbconvert_exporter": "python",
   "pygments_lexer": "ipython3",
   "version": "3.8.16"
  }
 },
 "nbformat": 4,
 "nbformat_minor": 5
}
