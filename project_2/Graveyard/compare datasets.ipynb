{
 "cells": [
  {
   "cell_type": "code",
   "execution_count": 7,
   "id": "f820b8d4",
   "metadata": {},
   "outputs": [],
   "source": [
    "import pickle\n",
    "import numpy as np\n",
    "import dataset_methods"
   ]
  },
  {
   "cell_type": "code",
   "execution_count": 2,
   "id": "73f34b62",
   "metadata": {},
   "outputs": [],
   "source": [
    "games_20 = pickle.load(open(\"games_20.pkl\", \"rb\"))\n",
    "games_100 = pickle.load(open(\"games_100.pkl\", \"rb\"))"
   ]
  },
  {
   "cell_type": "code",
   "execution_count": 3,
   "id": "44ed737a",
   "metadata": {},
   "outputs": [
    {
     "data": {
      "text/html": [
       "<div>\n",
       "<style scoped>\n",
       "    .dataframe tbody tr th:only-of-type {\n",
       "        vertical-align: middle;\n",
       "    }\n",
       "\n",
       "    .dataframe tbody tr th {\n",
       "        vertical-align: top;\n",
       "    }\n",
       "\n",
       "    .dataframe thead th {\n",
       "        text-align: right;\n",
       "    }\n",
       "</style>\n",
       "<table border=\"1\" class=\"dataframe\">\n",
       "  <thead>\n",
       "    <tr style=\"text-align: right;\">\n",
       "      <th></th>\n",
       "      <th>turns</th>\n",
       "      <th>winner</th>\n",
       "      <th>moves</th>\n",
       "    </tr>\n",
       "  </thead>\n",
       "  <tbody>\n",
       "    <tr>\n",
       "      <th>0</th>\n",
       "      <td>13</td>\n",
       "      <td>white</td>\n",
       "      <td>[d4, d5, c4, c6, cxd5, e6, dxe6, fxe6, Nf3, Bb...</td>\n",
       "    </tr>\n",
       "    <tr>\n",
       "      <th>1</th>\n",
       "      <td>16</td>\n",
       "      <td>black</td>\n",
       "      <td>[d4, Nc6, e4, e5, f4, f6, dxe5, fxe5, fxe5, Nx...</td>\n",
       "    </tr>\n",
       "    <tr>\n",
       "      <th>2</th>\n",
       "      <td>9</td>\n",
       "      <td>black</td>\n",
       "      <td>[e4, Nc6, d4, e5, d5, Nce7, c3, Ng6, b4,  ,  ,...</td>\n",
       "    </tr>\n",
       "    <tr>\n",
       "      <th>3</th>\n",
       "      <td>14</td>\n",
       "      <td>black</td>\n",
       "      <td>[e4, e5, Nf3, Nc6, Bc4, h6, O-O, Bc5, d3, Nf6,...</td>\n",
       "    </tr>\n",
       "    <tr>\n",
       "      <th>4</th>\n",
       "      <td>17</td>\n",
       "      <td>white</td>\n",
       "      <td>[e4, c5, Bc4, Nf6, Nc3, d6, Nf3, g6, Ng5, e6, ...</td>\n",
       "    </tr>\n",
       "    <tr>\n",
       "      <th>...</th>\n",
       "      <td>...</td>\n",
       "      <td>...</td>\n",
       "      <td>...</td>\n",
       "    </tr>\n",
       "    <tr>\n",
       "      <th>1380</th>\n",
       "      <td>18</td>\n",
       "      <td>black</td>\n",
       "      <td>[e4, c5, c3, d6, d4, e6, Bc4, Nf6, Nd2, a6, a3...</td>\n",
       "    </tr>\n",
       "    <tr>\n",
       "      <th>1381</th>\n",
       "      <td>12</td>\n",
       "      <td>black</td>\n",
       "      <td>[Nf3, c5, g3, e6, Bg2, g5, d3, Be7, e4, Nc6, B...</td>\n",
       "    </tr>\n",
       "    <tr>\n",
       "      <th>1382</th>\n",
       "      <td>8</td>\n",
       "      <td>white</td>\n",
       "      <td>[e4, d6, d4, Nf6, Nc3, g6, Be3, Bg7,  ,  ,  , ...</td>\n",
       "    </tr>\n",
       "    <tr>\n",
       "      <th>1383</th>\n",
       "      <td>11</td>\n",
       "      <td>white</td>\n",
       "      <td>[c4, Nf6, Nc3, d5, cxd5, Nxd5, e4, Nf4, d4, c6...</td>\n",
       "    </tr>\n",
       "    <tr>\n",
       "      <th>1384</th>\n",
       "      <td>9</td>\n",
       "      <td>white</td>\n",
       "      <td>[c4, e5, d4, exd4, Qxd4, Nf6, Bg5, Be7, e4,  ,...</td>\n",
       "    </tr>\n",
       "  </tbody>\n",
       "</table>\n",
       "<p>1385 rows × 3 columns</p>\n",
       "</div>"
      ],
      "text/plain": [
       "      turns winner                                              moves\n",
       "0        13  white  [d4, d5, c4, c6, cxd5, e6, dxe6, fxe6, Nf3, Bb...\n",
       "1        16  black  [d4, Nc6, e4, e5, f4, f6, dxe5, fxe5, fxe5, Nx...\n",
       "2         9  black  [e4, Nc6, d4, e5, d5, Nce7, c3, Ng6, b4,  ,  ,...\n",
       "3        14  black  [e4, e5, Nf3, Nc6, Bc4, h6, O-O, Bc5, d3, Nf6,...\n",
       "4        17  white  [e4, c5, Bc4, Nf6, Nc3, d6, Nf3, g6, Ng5, e6, ...\n",
       "...     ...    ...                                                ...\n",
       "1380     18  black  [e4, c5, c3, d6, d4, e6, Bc4, Nf6, Nd2, a6, a3...\n",
       "1381     12  black  [Nf3, c5, g3, e6, Bg2, g5, d3, Be7, e4, Nc6, B...\n",
       "1382      8  white  [e4, d6, d4, Nf6, Nc3, g6, Be3, Bg7,  ,  ,  , ...\n",
       "1383     11  white  [c4, Nf6, Nc3, d5, cxd5, Nxd5, e4, Nf4, d4, c6...\n",
       "1384      9  white  [c4, e5, d4, exd4, Qxd4, Nf6, Bg5, Be7, e4,  ,...\n",
       "\n",
       "[1385 rows x 3 columns]"
      ]
     },
     "execution_count": 3,
     "metadata": {},
     "output_type": "execute_result"
    }
   ],
   "source": [
    "games_20"
   ]
  },
  {
   "cell_type": "code",
   "execution_count": 4,
   "id": "3c8b724a",
   "metadata": {},
   "outputs": [
    {
     "data": {
      "text/html": [
       "<div>\n",
       "<style scoped>\n",
       "    .dataframe tbody tr th:only-of-type {\n",
       "        vertical-align: middle;\n",
       "    }\n",
       "\n",
       "    .dataframe tbody tr th {\n",
       "        vertical-align: top;\n",
       "    }\n",
       "\n",
       "    .dataframe thead th {\n",
       "        text-align: right;\n",
       "    }\n",
       "</style>\n",
       "<table border=\"1\" class=\"dataframe\">\n",
       "  <thead>\n",
       "    <tr style=\"text-align: right;\">\n",
       "      <th></th>\n",
       "      <th>turns</th>\n",
       "      <th>winner</th>\n",
       "      <th>moves</th>\n",
       "    </tr>\n",
       "  </thead>\n",
       "  <tbody>\n",
       "    <tr>\n",
       "      <th>0</th>\n",
       "      <td>13</td>\n",
       "      <td>white</td>\n",
       "      <td>[d4, d5, c4, c6, cxd5, e6, dxe6, fxe6, Nf3, Bb...</td>\n",
       "    </tr>\n",
       "    <tr>\n",
       "      <th>1</th>\n",
       "      <td>16</td>\n",
       "      <td>black</td>\n",
       "      <td>[d4, Nc6, e4, e5, f4, f6, dxe5, fxe5, fxe5, Nx...</td>\n",
       "    </tr>\n",
       "    <tr>\n",
       "      <th>2</th>\n",
       "      <td>61</td>\n",
       "      <td>white</td>\n",
       "      <td>[e4, e5, d3, d6, Be3, c6, Be2, b5, Nd2, a5, a4...</td>\n",
       "    </tr>\n",
       "    <tr>\n",
       "      <th>3</th>\n",
       "      <td>61</td>\n",
       "      <td>white</td>\n",
       "      <td>[d4, d5, Nf3, Bf5, Nc3, Nf6, Bf4, Ng4, e3, Nc6...</td>\n",
       "    </tr>\n",
       "    <tr>\n",
       "      <th>4</th>\n",
       "      <td>95</td>\n",
       "      <td>white</td>\n",
       "      <td>[e4, e5, Nf3, d6, d4, Nc6, d5, Nb4, a3, Na6, N...</td>\n",
       "    </tr>\n",
       "    <tr>\n",
       "      <th>...</th>\n",
       "      <td>...</td>\n",
       "      <td>...</td>\n",
       "      <td>...</td>\n",
       "    </tr>\n",
       "    <tr>\n",
       "      <th>16626</th>\n",
       "      <td>37</td>\n",
       "      <td>white</td>\n",
       "      <td>[c4, e6, d4, b6, Nc3, Bb7, Nf3, g6, h4, Bg7, B...</td>\n",
       "    </tr>\n",
       "    <tr>\n",
       "      <th>16627</th>\n",
       "      <td>24</td>\n",
       "      <td>white</td>\n",
       "      <td>[d4, f5, e3, e6, Nf3, Nf6, Nc3, b6, Be2, Bb7, ...</td>\n",
       "    </tr>\n",
       "    <tr>\n",
       "      <th>16628</th>\n",
       "      <td>82</td>\n",
       "      <td>black</td>\n",
       "      <td>[d4, d6, Bf4, e5, Bg3, Nf6, e3, exd4, exd4, d5...</td>\n",
       "    </tr>\n",
       "    <tr>\n",
       "      <th>16629</th>\n",
       "      <td>35</td>\n",
       "      <td>white</td>\n",
       "      <td>[d4, d5, Bf4, Nc6, e3, Nf6, c3, e6, Nf3, Be7, ...</td>\n",
       "    </tr>\n",
       "    <tr>\n",
       "      <th>16630</th>\n",
       "      <td>78</td>\n",
       "      <td>black</td>\n",
       "      <td>[d4, d5, Bf4, Na6, e3, e6, c3, Nf6, Nf3, Bd7, ...</td>\n",
       "    </tr>\n",
       "  </tbody>\n",
       "</table>\n",
       "<p>16631 rows × 3 columns</p>\n",
       "</div>"
      ],
      "text/plain": [
       "       turns winner                                              moves\n",
       "0         13  white  [d4, d5, c4, c6, cxd5, e6, dxe6, fxe6, Nf3, Bb...\n",
       "1         16  black  [d4, Nc6, e4, e5, f4, f6, dxe5, fxe5, fxe5, Nx...\n",
       "2         61  white  [e4, e5, d3, d6, Be3, c6, Be2, b5, Nd2, a5, a4...\n",
       "3         61  white  [d4, d5, Nf3, Bf5, Nc3, Nf6, Bf4, Ng4, e3, Nc6...\n",
       "4         95  white  [e4, e5, Nf3, d6, d4, Nc6, d5, Nb4, a3, Na6, N...\n",
       "...      ...    ...                                                ...\n",
       "16626     37  white  [c4, e6, d4, b6, Nc3, Bb7, Nf3, g6, h4, Bg7, B...\n",
       "16627     24  white  [d4, f5, e3, e6, Nf3, Nf6, Nc3, b6, Be2, Bb7, ...\n",
       "16628     82  black  [d4, d6, Bf4, e5, Bg3, Nf6, e3, exd4, exd4, d5...\n",
       "16629     35  white  [d4, d5, Bf4, Nc6, e3, Nf6, c3, e6, Nf3, Be7, ...\n",
       "16630     78  black  [d4, d5, Bf4, Na6, e3, e6, c3, Nf6, Nf3, Bd7, ...\n",
       "\n",
       "[16631 rows x 3 columns]"
      ]
     },
     "execution_count": 4,
     "metadata": {},
     "output_type": "execute_result"
    }
   ],
   "source": [
    "games_100"
   ]
  },
  {
   "cell_type": "code",
   "execution_count": 5,
   "id": "e56d33c9",
   "metadata": {},
   "outputs": [
    {
     "data": {
      "text/plain": [
       "list"
      ]
     },
     "execution_count": 5,
     "metadata": {},
     "output_type": "execute_result"
    }
   ],
   "source": [
    "type(games_20['moves'][0])"
   ]
  },
  {
   "cell_type": "code",
   "execution_count": 6,
   "id": "52260924",
   "metadata": {},
   "outputs": [
    {
     "data": {
      "text/plain": [
       "list"
      ]
     },
     "execution_count": 6,
     "metadata": {},
     "output_type": "execute_result"
    }
   ],
   "source": [
    "type(games_100['moves'][0])"
   ]
  },
  {
   "cell_type": "code",
   "execution_count": 8,
   "id": "368385e6",
   "metadata": {},
   "outputs": [],
   "source": [
    "# # Create train and test data loaders\n",
    "train_, test_ = dataset_methods.get_dataset(\"games_20.pkl\")\n",
    "\n",
    "#pull a batch from dataloaders manually by setting batch_size=1 and running the following:\n",
    "train_batch = next(iter(train_))\n",
    "print(len(batch[0][0]))\n",
    "test_batch = next(iter(test_))\n",
    "print(test_batch)"
   ]
  },
  {
   "cell_type": "code",
   "execution_count": null,
   "id": "3c1500c2",
   "metadata": {},
   "outputs": [],
   "source": [
    "def debug(file):\n",
    "    "
   ]
  }
 ],
 "metadata": {
  "kernelspec": {
   "display_name": "Python 3 (ipykernel)",
   "language": "python",
   "name": "python3"
  },
  "language_info": {
   "codemirror_mode": {
    "name": "ipython",
    "version": 3
   },
   "file_extension": ".py",
   "mimetype": "text/x-python",
   "name": "python",
   "nbconvert_exporter": "python",
   "pygments_lexer": "ipython3",
   "version": "3.8.16"
  }
 },
 "nbformat": 4,
 "nbformat_minor": 5
}
